{
  "nbformat": 4,
  "nbformat_minor": 0,
  "metadata": {
    "colab": {
      "name": "arxiv_dataset.ipynb",
      "provenance": [],
      "collapsed_sections": []
    },
    "kernelspec": {
      "name": "python3",
      "display_name": "Python 3"
    }
  },
  "cells": [
    {
      "cell_type": "code",
      "metadata": {
        "id": "Zezo1Ip0wCwW",
        "colab_type": "code",
        "outputId": "4a5a080c-acd9-474c-993d-01fdaffe8e2f",
        "colab": {
          "base_uri": "https://localhost:8080/",
          "height": 504
        }
      },
      "source": [
        "!pip install git+git://github.com/huggingface/transformers.git"
      ],
      "execution_count": 1,
      "outputs": [
        {
          "output_type": "stream",
          "text": [
            "Collecting git+git://github.com/huggingface/transformers.git\n",
            "  Cloning git://github.com/huggingface/transformers.git to /tmp/pip-req-build-xtvdb9ro\n",
            "  Running command git clone -q git://github.com/huggingface/transformers.git /tmp/pip-req-build-xtvdb9ro\n",
            "Requirement already satisfied (use --upgrade to upgrade): transformers==2.11.0 from git+git://github.com/huggingface/transformers.git in /usr/local/lib/python3.6/dist-packages\n",
            "Requirement already satisfied: numpy in /usr/local/lib/python3.6/dist-packages (from transformers==2.11.0) (1.18.4)\n",
            "Requirement already satisfied: tokenizers==0.7.0 in /usr/local/lib/python3.6/dist-packages (from transformers==2.11.0) (0.7.0)\n",
            "Requirement already satisfied: packaging in /usr/local/lib/python3.6/dist-packages (from transformers==2.11.0) (20.4)\n",
            "Requirement already satisfied: filelock in /usr/local/lib/python3.6/dist-packages (from transformers==2.11.0) (3.0.12)\n",
            "Requirement already satisfied: requests in /usr/local/lib/python3.6/dist-packages (from transformers==2.11.0) (2.23.0)\n",
            "Requirement already satisfied: tqdm>=4.27 in /usr/local/lib/python3.6/dist-packages (from transformers==2.11.0) (4.41.1)\n",
            "Requirement already satisfied: regex!=2019.12.17 in /usr/local/lib/python3.6/dist-packages (from transformers==2.11.0) (2019.12.20)\n",
            "Requirement already satisfied: sentencepiece in /usr/local/lib/python3.6/dist-packages (from transformers==2.11.0) (0.1.91)\n",
            "Requirement already satisfied: sacremoses in /usr/local/lib/python3.6/dist-packages (from transformers==2.11.0) (0.0.43)\n",
            "Requirement already satisfied: dataclasses in /usr/local/lib/python3.6/dist-packages (from transformers==2.11.0) (0.7)\n",
            "Requirement already satisfied: six in /usr/local/lib/python3.6/dist-packages (from packaging->transformers==2.11.0) (1.12.0)\n",
            "Requirement already satisfied: pyparsing>=2.0.2 in /usr/local/lib/python3.6/dist-packages (from packaging->transformers==2.11.0) (2.4.7)\n",
            "Requirement already satisfied: idna<3,>=2.5 in /usr/local/lib/python3.6/dist-packages (from requests->transformers==2.11.0) (2.9)\n",
            "Requirement already satisfied: chardet<4,>=3.0.2 in /usr/local/lib/python3.6/dist-packages (from requests->transformers==2.11.0) (3.0.4)\n",
            "Requirement already satisfied: urllib3!=1.25.0,!=1.25.1,<1.26,>=1.21.1 in /usr/local/lib/python3.6/dist-packages (from requests->transformers==2.11.0) (1.24.3)\n",
            "Requirement already satisfied: certifi>=2017.4.17 in /usr/local/lib/python3.6/dist-packages (from requests->transformers==2.11.0) (2020.4.5.1)\n",
            "Requirement already satisfied: click in /usr/local/lib/python3.6/dist-packages (from sacremoses->transformers==2.11.0) (7.1.2)\n",
            "Requirement already satisfied: joblib in /usr/local/lib/python3.6/dist-packages (from sacremoses->transformers==2.11.0) (0.15.1)\n",
            "Building wheels for collected packages: transformers\n",
            "  Building wheel for transformers (setup.py) ... \u001b[?25l\u001b[?25hdone\n",
            "  Created wheel for transformers: filename=transformers-2.11.0-cp36-none-any.whl size=675468 sha256=afed651aaa59cdc0b33bd139c1cbcff9abf85e703d92de11cdd06aece0a2f629\n",
            "  Stored in directory: /tmp/pip-ephem-wheel-cache-ff5qze3h/wheels/85/2f/0c/d60f3471df1c6c05cbd5fcfaeb0d3778182cd35c12ecae98fa\n",
            "Successfully built transformers\n"
          ],
          "name": "stdout"
        }
      ]
    },
    {
      "cell_type": "code",
      "metadata": {
        "id": "2q3FZAS8-ri5",
        "colab_type": "code",
        "colab": {}
      },
      "source": [
        "import numpy as np\n",
        "import pandas as pd\n",
        "import random\n",
        "random.seed(42)\n",
        "from datetime import datetime\n",
        "import re\n",
        "\n",
        "# Labels\n",
        "startoftext = \"<|startoftext|>\"\n",
        "endoftext = \"<|endoftext|>\"\n",
        "sep = \"<|sep|>\"\n",
        "\n",
        "\n",
        "def read_datasets(filename):\n",
        "    \"\"\"Read a .tsv dataset and extracts titles, abstracts, and created dates\n",
        "\n",
        "    Args:\n",
        "        filename: The name of the dataset file.\n",
        "\n",
        "    Returns:\n",
        "        A list of zipped titles, abstracts, and created dates\n",
        "    \"\"\"\n",
        "    dataset = pd.read_csv(filename, delimiter=\"\\t\")\n",
        "    titles = [f\"{startoftext} {title} {sep}\" for title in list(dataset[\"title\"])]\n",
        "    abstracts = [abst + endoftext for abst in list(dataset[\"abstract\"])]\n",
        "    date = [datetime.strptime(i, \"%Y-%m-%d\") for i in list(dataset[\"created\"])]\n",
        "    arxiv_id = [re.sub(\"[^0-9]\", \"\", i) for i in list(dataset[\"arxiv_id\"])]\n",
        "    return list(zip(titles, abstracts, arxiv_id, date))\n",
        "\n",
        "\n",
        "def merge_datasets():\n",
        "    \"\"\"Merge all four datasets.\n",
        "\n",
        "    Returns:\n",
        "        A list of titles, abstracts, dates, sorted by dates.\n",
        "    \"\"\"\n",
        "    ai = read_datasets(\"cs.AI.tsv\")\n",
        "    lg = read_datasets(\"cs.LG.tsv\")\n",
        "    cl = read_datasets(\"cs.CL.tsv\")\n",
        "    cv = read_datasets(\"cs.CV.tsv\")\n",
        "    data = ai + lg + cl + cv\n",
        "    unique_ids = set()\n",
        "    filtered_data = []\n",
        "    for d in data:\n",
        "        if d[-2] not in unique_ids:\n",
        "            unique_ids.add(d[-2])\n",
        "            filtered_data.append(d)\n",
        "    sorted_data = sorted(filtered_data, key=lambda x: x[-1])\n",
        "    return sorted_data\n",
        "\n",
        "\n",
        "def split_datasets(data):\n",
        "    \"\"\"Split the dataset into train, valid, test sets.\n",
        "\n",
        "    Args:\n",
        "        data: A list of titles, abstracts, dates, sorted by dates.\n",
        "\n",
        "    Returns:\n",
        "        Train, valid, test sets.\n",
        "    \"\"\"\n",
        "    train_text = data[:-9880]\n",
        "    eval_text = data[-9880:]\n",
        "    valid_test_ratio = 0.5\n",
        "    valid_text = eval_text[:int(len(eval_text) * valid_test_ratio)]\n",
        "    test_text = eval_text[int(len(eval_text) * valid_test_ratio):]\n",
        "    assert len(train_text) == 90000\n",
        "    assert len(valid_text) == 4940\n",
        "    assert len(test_text) == 4940\n",
        "    return (train_text, valid_text, test_text)\n",
        "\n",
        "\n",
        "def write_datasets(data, name):\n",
        "    \"\"\"Write a .txt file of the dataset\n",
        "\n",
        "    Args:\n",
        "        data: A list of titles, abstracts, dates, sorted by dates.\n",
        "        name: The name of the file to write.\n",
        "    \"\"\"\n",
        "    with open(name + \".txt\", \"w+\") as f:\n",
        "        for d in data:\n",
        "            f.write(f\"{d[0]} {d[1]}\\n\\n\")\n",
        "    f.close()\n",
        "    print(f\"{name} file completed.\")"
      ],
      "execution_count": 0,
      "outputs": []
    },
    {
      "cell_type": "code",
      "metadata": {
        "id": "Ka9_SPXMAvWh",
        "colab_type": "code",
        "colab": {}
      },
      "source": [
        "data = merge_datasets()"
      ],
      "execution_count": 0,
      "outputs": []
    },
    {
      "cell_type": "code",
      "metadata": {
        "id": "8G97sKucoNDr",
        "colab_type": "code",
        "outputId": "9e2c0eae-db27-4902-835a-14a2c75948f9",
        "colab": {
          "base_uri": "https://localhost:8080/",
          "height": 69
        }
      },
      "source": [
        "train, valid, test = split_datasets(data)\n",
        "write_datasets(train, \"train\")\n",
        "write_datasets(valid, \"valid\")\n",
        "write_datasets(test, \"test\")"
      ],
      "execution_count": 4,
      "outputs": [
        {
          "output_type": "stream",
          "text": [
            "train file completed.\n",
            "valid file completed.\n",
            "test file completed.\n"
          ],
          "name": "stdout"
        }
      ]
    },
    {
      "cell_type": "code",
      "metadata": {
        "id": "PamRXnFHiDlr",
        "colab_type": "code",
        "outputId": "b073e769-4bfb-4bf0-f3b9-c7554470588e",
        "colab": {
          "base_uri": "https://localhost:8080/",
          "height": 69
        }
      },
      "source": [
        "print(len(train))\n",
        "print(len(valid))\n",
        "print(len(test))"
      ],
      "execution_count": 5,
      "outputs": [
        {
          "output_type": "stream",
          "text": [
            "90000\n",
            "4940\n",
            "4940\n"
          ],
          "name": "stdout"
        }
      ]
    },
    {
      "cell_type": "code",
      "metadata": {
        "id": "UAWoOXvHfXZG",
        "colab_type": "code",
        "colab": {}
      },
      "source": [
        "from transformers import GPT2Tokenizer"
      ],
      "execution_count": 0,
      "outputs": []
    },
    {
      "cell_type": "code",
      "metadata": {
        "id": "z8SzbjSffkE1",
        "colab_type": "code",
        "colab": {}
      },
      "source": [
        "tokenizer = GPT2Tokenizer.from_pretrained(\"gpt2\")"
      ],
      "execution_count": 0,
      "outputs": []
    },
    {
      "cell_type": "code",
      "metadata": {
        "id": "JDmJZ3ZJ3l7C",
        "colab_type": "code",
        "colab": {
          "base_uri": "https://localhost:8080/",
          "height": 69
        },
        "outputId": "42b7437d-71d2-4ef2-bc30-042b7f3ac2f7"
      },
      "source": [
        "print(len(tokenizer.tokenize(open(\"train.txt\", \"r\").read())))\n",
        "print(len(tokenizer.tokenize(open(\"valid.txt\", \"r\").read())))\n",
        "print(len(tokenizer.tokenize(open(\"test.txt\", \"r\").read())))"
      ],
      "execution_count": 8,
      "outputs": [
        {
          "output_type": "stream",
          "text": [
            "20834012\n",
            "1195056\n",
            "1218754\n"
          ],
          "name": "stdout"
        }
      ]
    }
  ]
}